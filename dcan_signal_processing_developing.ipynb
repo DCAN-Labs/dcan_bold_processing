{
 "cells": [
  {
   "cell_type": "code",
   "execution_count": 1,
   "metadata": {},
   "outputs": [
    {
     "data": {
      "text/plain": [
       "'\\nTrying to improve the dcan_signal_processing.m by doing it in python and getting rid of all the CIFTI I/O done through wb_command\\n'"
      ]
     },
     "execution_count": 1,
     "metadata": {},
     "output_type": "execute_result"
    }
   ],
   "source": [
    "'''\n",
    "Trying to improve the dcan_signal_processing.m by doing it in python and getting rid of all the CIFTI I/O done through wb_command\n",
    "'''"
   ]
  },
  {
   "cell_type": "code",
   "execution_count": 3,
   "metadata": {},
   "outputs": [],
   "source": [
    "import json\n",
    "import math\n",
    "import os\n",
    "import nibabel as nib\n",
    "import pandas as pd\n",
    "import numpy as np\n",
    "import scipy\n",
    "from subprocess import check_call\n",
    "from glob import glob\n",
    "import matplotlib.pyplot as plt  # If checking the output\n",
    "from scipy.io import loadmat"
   ]
  },
  {
   "cell_type": "code",
   "execution_count": 4,
   "metadata": {},
   "outputs": [
    {
     "data": {
      "text/plain": [
       "{'FNL_preproc_CIFTI_basename': 'ses-17mo_task-rest_run-001_DCANBOLDProc_v4.0.0_Atlas_Python',\n",
       " 'TR': 0.8,\n",
       " 'bp_order': 2,\n",
       " 'fMRIName': 'ses-17mo_task-rest_run-001',\n",
       " 'fd_th': 0.3,\n",
       " 'file_mov_reg': '/data/wheelock/data1/datasets/BCP/Example_BCP_intermediates/sub-100619/output_Tu/MNINonLinear/Results/ses-17mo_task-rest_run-001/DCANBOLDProc_v4.0.0/DCANBOLDProc_v4.0.0_bs16.8896_28.6662_filtered_Movement_Regressors.txt',\n",
       " 'file_vent': '/data/wheelock/data1/datasets/BCP/Example_BCP_intermediates/sub-100619/output_Tu/MNINonLinear/Results/ses-17mo_task-rest_run-001/DCANBOLDProc_v4.0.0/ses-17mo_task-rest_run-001_vent_mean.txt',\n",
       " 'file_wm': '/data/wheelock/data1/datasets/BCP/Example_BCP_intermediates/sub-100619/output_Tu/MNINonLinear/Results/ses-17mo_task-rest_run-001/DCANBOLDProc_v4.0.0/ses-17mo_task-rest_run-001_wm_mean.txt',\n",
       " 'hp_Hz': 0.08,\n",
       " 'lp_Hz': 0.009,\n",
       " 'motion_filename': 'motion_numbers.txt',\n",
       " 'path_cii': '/data/wheelock/data1/datasets/BCP/Example_BCP_intermediates/sub-100619/output_Tu/MNINonLinear/Results/ses-17mo_task-rest_run-001/ses-17mo_task-rest_run-001_Atlas.dtseries.nii',\n",
       " 'path_ex_sum': '/data/wheelock/data1/datasets/BCP/Example_BCP_intermediates/sub-100619/output_Tu/summary_DCANBOLDProc_v4.0.0',\n",
       " 'path_wb_c': '/data/wheelock/data1/software/workbench/bin_linux64/wb_command',\n",
       " 'result_dir': '/data/wheelock/data1/datasets/BCP/Example_BCP_intermediates/sub-100619/output_Tu/MNINonLinear/Results/ses-17mo_task-rest_run-001/DCANBOLDProc_v4.0.0',\n",
       " 'skip_seconds': 5,\n",
       " 'band_stop_max': 28.6662,\n",
       " 'band_stop_min': 16.8896,\n",
       " 'brain_radius_mm': 50,\n",
       " 'contiguous_frames': 5,\n",
       " 'motion_filter_option': 5,\n",
       " 'motion_filter_order': 4,\n",
       " 'motion_filter_type': 'notch',\n",
       " 'FD_type': 1,\n",
       " 'GSR': 1}"
      ]
     },
     "execution_count": 4,
     "metadata": {},
     "output_type": "execute_result"
    }
   ],
   "source": [
    "#json_path = r\"/data/wheelock/data1/datasets/BCP/Example_BCP_intermediates/sub-100619/output_Tu/MNINonLinear/Results/ses-17mo_task-rest_run-001/DCANBOLDProc_vTu1.0/DCANBOLDProc_vTu1.0_mat_config_20240913.json\"\n",
    "json_path = r\"/data/wheelock/data1/datasets/BCP/Example_BCP_intermediates/sub-100619/output_Tu/MNINonLinear/Results/ses-17mo_task-rest_run-001/DCANBOLDProc_v4.0.0/DCANBOLDProc_v4.0.0_mat_config_20240913.json\"\n",
    "# Load the json file\n",
    "with open(json_path, 'r') as file:\n",
    "    json_input = json.load(file)\n",
    "globals().update(json_input) # unwraps the dictionary into global variables (Line 9 in dcan_signal_processing.m)\n",
    "json_input"
   ]
  },
  {
   "cell_type": "code",
   "execution_count": 5,
   "metadata": {},
   "outputs": [],
   "source": [
    "# Dependency functions\n",
    "\n",
    "def calculate_dvars_from_cifti(data):\n",
    "    \"\"\"\n",
    "    This function calculates DVARS (Derivative of Variance) based on grayordinates (WM and non-brain excluded).\n",
    "    \n",
    "    Parameters:\n",
    "    data (ndarray): 2D numpy array with shape (tr, g), where g represents the number of grayordinates and tr is the number of time points.\n",
    "    \n",
    "    Returns:\n",
    "    dvars (float): The calculated DVARS value.\n",
    "    \"\"\"\n",
    "    # Check size and transpose if needed\n",
    "    num_timepoints,num_grayordinates  = data.shape\n",
    "    if num_grayordinates < num_timepoints:\n",
    "            data = data.T\n",
    "            print('data transposed due to timepoints > grayordinates, double check input')\n",
    "\n",
    "    # Calculate differences across timepoints\n",
    "    data_diff = np.diff(data, axis=0)\n",
    "\n",
    "    # Calculate DVARS as the root mean square of the differences\n",
    "    dvars = np.hstack((np.nan,np.sqrt(np.mean(data_diff ** 2,axis=1))))\n",
    "\n",
    "    return dvars\n",
    "\n",
    "def filter_movement_regressors(signal, TR, order, filt_type, fc_RR_min, fc_RR_max):   \n",
    "    fs = 1 / TR\n",
    "    fNy = fs / 2 # Nyquist frequency\n",
    "    if filt_type == 'lp':\n",
    "        freq_low = fc_RR_min / 60 # Hz lower range\n",
    "        b_filt,a_filt = scipy.signal.butter(order/2,freq_low/fNy,'lowpass',axis = 0) # Division by 2 because filtfilt applies the filter forward and backward, making the filter order twice the original one\n",
    "    elif (filt_type == 'notch') | (filt_type == 'bandstop'):\n",
    "        freq_low = fc_RR_min / 60  # Hz, lower range\n",
    "        freq_high = fc_RR_max / 60  # Hz, higher range\n",
    "        b_filt,a_filt = scipy.signal.butter(order/2,np.array([freq_low,freq_high])/fNy,'bandstop') # Division by 2 because filtfilt applies the filter forward and backward, making the filter order twice the original one\n",
    "    \n",
    "    filtered_signal = scipy.signal.filtfilt(b_filt,a_filt,signal,axis = 0)   \n",
    "\n",
    "    return filtered_signal\n",
    "\n",
    "def calc_FD(R, FD_type=1):\n",
    "\n",
    "    dR = np.diff(R,axis = 0) # First-order derivative\n",
    "    ddR = np.diff(dR,axis = 0)  # Second-order derivative\n",
    "    if FD_type == 1:\n",
    "        # L1-norm - sum of absolute values of first-order derivatives\n",
    "        FD = np.sum(np.absolute(dR), axis=1) \n",
    "        meanFD = np.mean(FD)\n",
    "        FD = np.hstack((np.zeros(1,),FD)) # Pad zeros to make it the same length as the original data\n",
    "    elif FD_type == 2:\n",
    "        # L2-norm - sum of absolute values of second-order derivatives\n",
    "        FD = np.sum(np.absolute(ddR),axis=1)\n",
    "        meanFD = np.mean(FD)\n",
    "        FD = np.hstack((np.zeros(2,),FD))# Pad zeros to make it the same length as the original data\n",
    "    return FD,meanFD \n",
    "\n",
    "def make_friston_regressors(MR):\n",
    "    \"\"\"\n",
    "    This function takes a matrix `MR` of 6 degrees of freedom (DOF) movement correction\n",
    "    parameters and calculates the corresponding 24 Friston regressors.\n",
    "\n",
    "    Parameters:\n",
    "    -----------\n",
    "    MR : numpy array of shape (r, c)\n",
    "        A matrix where r is the number of time points and c are the 6 DOF movement regressors.\n",
    "        If the number of columns is more than 6, only the first 6 columns are considered.\n",
    "\n",
    "    hd_mm : float, optional\n",
    "        The head radius in mm. Default is 50 mm.\n",
    "\n",
    "    Returns:\n",
    "    --------\n",
    "    FR : numpy array of shape (r, 24)\n",
    "        A matrix containing 24 Friston regressors.\n",
    "    \"\"\"\n",
    "\n",
    "    # Calculate the first part of the Friston regressors (MR and MR^2)\n",
    "    FR = np.hstack([MR, MR**2])\n",
    "\n",
    "    # Create a dummy array for the temporal derivatives (lagged version of FR)\n",
    "    dummy = np.zeros_like(FR)\n",
    "    dummy[1:, :] = FR[:-1, :]  # shift FR by one time step\n",
    "    dummy[0, :] = 0  # set the first row to 0\n",
    "\n",
    "    # Concatenate the original FR and the lagged version\n",
    "    FR = np.hstack([FR, dummy])\n",
    "\n",
    "    return FR\n",
    "\n",
    "def calc_power_spectrum(data):\n",
    "    assert len(data.shape) == 1 or data.shape[1] == 1,\"Input has to be a column vector or 1D array\"\n",
    "    N = data.shape[0]\n",
    "    yf = scipy.fftpack.fft(data)\n",
    "    power_spectrum = 2.0 / N * np.abs(yf[0 : N // 2])\n",
    "    return power_spectrum\n",
    "\n",
    "def detrend_manual(data, keepframe):\n",
    "    detrended_data = data.copy()\n",
    "    time_points = np.where(keepframe)[0]\n",
    "    time_points_all = np.array(range(keepframe.shape[0]))\n",
    "    \n",
    "    # Create the design matrix for linear regression (constant + linear term)\n",
    "    X = np.vstack([time_points, np.ones(len(time_points))]).T  # Shape (len(keepframe), 2)\n",
    "    Xall = np.vstack([time_points_all, np.ones(len(time_points_all))]).T \n",
    "\n",
    "    # Perform the linear regression for all columns at once using least squares\n",
    "    # Y is the data[keepframe, :] with shape (len(keepframe), n)\n",
    "    Y = data[keepframe, :]\n",
    "    \n",
    "    # Compute the least squares solution to find the slope and intercept for each column\n",
    "    beta, _, _, _ = np.linalg.lstsq(X, Y, rcond=None)  # beta shape is (2, n)\n",
    "    \n",
    "    # Calculate the trend for each column using the coefficients\n",
    "    trend = Xall @ beta  # Shape (len(keepframe), n)\n",
    "\n",
    "    # Subtract the trend from the data at the all indices\n",
    "    detrended_data -= trend\n",
    "\n",
    "    # Using the for loop is much slower\n",
    "    # x = np.array(range(np.shape(keepframe)[0]))\n",
    "    # # Loop through each column in the data\n",
    "    # for i in range(data.shape[1]):\n",
    "    #     # Extract the values in the rows defined by keepframe for the current column\n",
    "    #     y = data[keepframe, i]\n",
    "        \n",
    "    #     # Fit a linear trend (y = mx + b)\n",
    "    #     p = np.polyfit(time_points, y, 1)  # First-order polynomial fit (linear)\n",
    "\n",
    "    #     # Calculate the trend (mx + b)\n",
    "    #     trend = np.polyval(p, x)\n",
    "\n",
    "    #     # Subtract the trend from the original data at the keepframe indices\n",
    "    #     detrended_data[:, i] -= trend\n",
    "    return detrended_data\n",
    "    "
   ]
  },
  {
   "cell_type": "markdown",
   "metadata": {},
   "source": [
    "### Preparation and load data"
   ]
  },
  {
   "cell_type": "code",
   "execution_count": 6,
   "metadata": {},
   "outputs": [
    {
     "name": "stdout",
     "output_type": "stream",
     "text": [
      "TR = 0.8\n"
     ]
    }
   ],
   "source": [
    "# Get TR (Line 34 in dcan_signal_processing.m)\n",
    "TR = nib.load(path_cii).header.get_axis(0).step  # In seconds\n",
    "if TR>20: # handle niftis that store TR in ms \n",
    "    TR /= 1000\n",
    "print('TR = ' + str(TR))\n",
    "skip_frames = math.floor(skip_seconds/TR)"
   ]
  },
  {
   "cell_type": "code",
   "execution_count": 7,
   "metadata": {},
   "outputs": [],
   "source": [
    "# Read cifti data (Line 43 in dcan_signal_processing)\n",
    "img = nib.load(path_cii)\n",
    "data = img.get_fdata()\n",
    "DVAR_pre_reg = calculate_dvars_from_cifti(data)\n",
    "# # Visualization\n",
    "# plt.plot(DVAR_pre_reg)\n",
    "# plt.show()"
   ]
  },
  {
   "cell_type": "code",
   "execution_count": null,
   "metadata": {},
   "outputs": [],
   "source": [
    "# Global signals (Line 52,58,83 in dcan_bold_processing.m)\n",
    "if GSR:\n",
    "    wm = np.loadtxt(file_wm)\n",
    "    vent = np.loadtxt(file_vent)\n",
    "    WB = np.mean(data,axis = 1) # Global signal in gray matter\n",
    "    Glob = np.concatenate((wm.reshape(-1,1),vent.reshape(-1,1),WB.reshape(-1,1)),axis = 1)\n",
    "    dGlob  = np.vstack(([0,0,0],np.diff(Glob,axis=0)))\n",
    "    # Visualization\n",
    "    plt.figure(figsize = (8,4))\n",
    "    plt.subplot(1,2,1)\n",
    "    plt.plot(Glob,lw = 0.5,label =('white matter','ventricle','grayordinate'))\n",
    "    plt.title('Global signal')\n",
    "    plt.subplot(1,2,2)\n",
    "    plt.plot(dGlob,lw = 0.5,label =('white matter','ventricle','grayordinate'))\n",
    "    plt.legend()\n",
    "    plt.title('Global signal derivative')\n",
    "    plt.show()"
   ]
  },
  {
   "cell_type": "code",
   "execution_count": 12,
   "metadata": {},
   "outputs": [],
   "source": [
    "# Load movement regressors\n",
    "assert os.path.isfile(file_mov_reg), 'movement regressor file not found' \n",
    "unfiltered_mov_regressors = np.loadtxt(file_mov_reg)\n",
    "unfiltered_mov_regressors = unfiltered_mov_regressors[:,:6]\n",
    "# Convert rotational motion parameters (4th to 6th columns) from degrees to arc length in mm\n",
    "unfiltered_mov_regressors[:, 3:] *= np.pi * brain_radius_mm / 180\n",
    "\n",
    "# Bandstop filter\n",
    "filtered_mov_regressors = filter_movement_regressors(unfiltered_mov_regressors, TR, motion_filter_order, motion_filter_type, band_stop_min, band_stop_max)\n",
    "\n",
    "FR = make_friston_regressors(filtered_mov_regressors) # 24-param Friston Regressors"
   ]
  },
  {
   "cell_type": "code",
   "execution_count": null,
   "metadata": {},
   "outputs": [],
   "source": [
    "# Calculate FD  (Line 73 in dcan_bold_processing.m)\n",
    "FD,meanFD = calc_FD(filtered_mov_regressors,FD_type=FD_type)\n",
    "FD_file_name = os.path.join(result_dir,FNL_preproc_CIFTI_basename + '_FD.txt')\n",
    "np.savetxt(FD_file_name,FD)\n",
    "print('Mean FD = ' + str(meanFD))\n",
    "# Now state the frames to keep for the processing (Line 78 in dcan_bold_processing.m)\n",
    "keepframe = FD <= fd_th\n",
    "skip_frames = np.int8(np.floor(skip_seconds/TR))\n",
    "keepframe[:skip_frames]=False\n",
    "np.sum(keepframe)"
   ]
  },
  {
   "cell_type": "code",
   "execution_count": null,
   "metadata": {},
   "outputs": [],
   "source": [
    "# # Load FD and FR\n",
    "# FD = loadmat('/data/wheelock/data1/datasets/BCP/Example_BCP_intermediates/sub-100619/output_Tu/MNINonLinear/Results/ses-17mo_task-rest_run-001/DCANBOLDProc_v4.0.0/FD.mat')['FD']\n",
    "# FD = np.vstack((0,FD)).ravel()\n",
    "# keepframe = FD <= fd_th\n",
    "# skip_frames = np.int8(np.floor(skip_seconds/TR))\n",
    "# keepframe[:skip_frames]=False\n",
    "\n",
    "# FR = loadmat('/data/wheelock/data1/datasets/BCP/Example_BCP_intermediates/sub-100619/output_Tu/MNINonLinear/Results/ses-17mo_task-rest_run-001/DCANBOLDProc_v4.0.0/FR.mat')['FR']\n",
    "# FR.shape"
   ]
  },
  {
   "cell_type": "code",
   "execution_count": null,
   "metadata": {},
   "outputs": [],
   "source": [
    "# Visualization\n",
    "plt.figure()\n",
    "plt.plot(FD,lw=0.5)\n",
    "for j in np.where(keepframe==0)[0]:\n",
    "    plt.axvline(x=j, color=[0.2,0.2,0.2], alpha=0.2)\n",
    "plt.title('FD')\n",
    "plt.show()"
   ]
  },
  {
   "cell_type": "code",
   "execution_count": null,
   "metadata": {},
   "outputs": [],
   "source": [
    "# Concatenate regressors\n",
    "if GSR:\n",
    "    R = np.concatenate((Glob,dGlob,FR),axis = 1) # with GSR\n",
    "else:\n",
    "    R = FR # without GSR\n",
    "# Demean/detrend regressors\n",
    "R = R-np.mean(R[keepframe,:],axis = 0)\n",
    "R = detrend_manual(R,keepframe)\n",
    "plt.figure()\n",
    "plt.plot(R)\n",
    "plt.xlabel('TR')\n",
    "plt.show()"
   ]
  },
  {
   "cell_type": "markdown",
   "metadata": {},
   "source": [
    "### Start Processing fMRI data"
   ]
  },
  {
   "cell_type": "code",
   "execution_count": null,
   "metadata": {},
   "outputs": [],
   "source": [
    "data_dd = data-np.mean(data[keepframe,:],axis=0)\n",
    "data_dd = detrend_manual(data_dd,keepframe)"
   ]
  },
  {
   "cell_type": "code",
   "execution_count": null,
   "metadata": {},
   "outputs": [],
   "source": [
    "plt.figure()\n",
    "plt.subplot(1,2,1)\n",
    "plt.plot(np.mean(data,axis=1))\n",
    "plt.xlabel('TR')\n",
    "plt.title('Before demean/detrend')\n",
    "plt.subplot(1,2,2)\n",
    "plt.plot(np.mean(data_dd,axis=1))\n",
    "plt.xlabel('TR')\n",
    "plt.title('After demean/detrend')\n",
    "plt.show()\n",
    "plt.tight_layout()"
   ]
  },
  {
   "cell_type": "code",
   "execution_count": null,
   "metadata": {},
   "outputs": [],
   "source": [
    "tmpdvar = calculate_dvars_from_cifti(data_dd)\n",
    "plt.plot(DVAR_pre_reg,label = 'original')\n",
    "plt.plot(tmpdvar,label = 'demean/detrend')\n",
    "plt.legend()\n",
    "plt.title('DVARS')\n",
    "plt.show()"
   ]
  },
  {
   "cell_type": "code",
   "execution_count": null,
   "metadata": {},
   "outputs": [],
   "source": [
    "# Nuisance Regression (Line 121 in dcan_signal_processing.m)\n",
    "b,_,_,_ = np.linalg.lstsq(R[keepframe,:],data_dd[keepframe,:],rcond=None)\n",
    "data_postreg = data_dd-R@b\n",
    "DVAR_post_reg = calculate_dvars_from_cifti(data_postreg)"
   ]
  },
  {
   "cell_type": "code",
   "execution_count": null,
   "metadata": {},
   "outputs": [],
   "source": [
    "plt.figure()\n",
    "plt.plot(DVAR_pre_reg,linewidth=0.5,label='DVARS pre regression')\n",
    "plt.plot(DVAR_post_reg,linewidth=0.5,label='DVARS post regression')\n",
    "plt.xlabel('TR')\n",
    "plt.legend()\n",
    "plt.show()"
   ]
  },
  {
   "cell_type": "code",
   "execution_count": null,
   "metadata": {},
   "outputs": [],
   "source": [
    "# Linear interpolation before bandpass filter (Line 144 in dcan_signal_processing.m)\n",
    "# Interpolate for missing frames\n",
    "x = np.where(keepframe)[0]\n",
    "x_removed =  np.where(keepframe==0)[0]\n",
    "x_outsidebound = (x_removed<x[0])|(x_removed>x[-1])\n",
    "y_removed = np.apply_along_axis(\n",
    "    lambda col: np.interp(x_removed, x, col[keepframe]), \n",
    "    axis=0, \n",
    "    arr=data_postreg\n",
    ")\n",
    "# Replace extrapolated points with the mean of kept data\n",
    "y_mean = np.mean(data_postreg[keepframe,:],axis=0)\n",
    "y_removed[x_outsidebound,:] = y_mean \n",
    "\n",
    "data_interpolated = data_postreg.copy()\n",
    "data_interpolated[keepframe==0,:] = y_removed"
   ]
  },
  {
   "cell_type": "code",
   "execution_count": null,
   "metadata": {},
   "outputs": [],
   "source": [
    "plt.figure(figsize=(6,4))\n",
    "plt.plot(data_postreg[:,0],linewidth=0.5,label='example original signal')\n",
    "plt.plot(data_interpolated[:,0],linewidth=0.5,label='example interpolated signal')\n",
    "# for j in x_removed[x_outsidebound]:\n",
    "#     plt.axvline(x=j, color=\"r\", alpha=0.2)\n",
    "plt.xlabel('TR')\n",
    "plt.legend(loc='best')\n",
    "plt.tight_layout()\n",
    "plt.show()"
   ]
  },
  {
   "cell_type": "code",
   "execution_count": null,
   "metadata": {},
   "outputs": [],
   "source": [
    "# Bandpass filter with manual zero padding\n",
    "fs = 1 / TR\n",
    "fNy = fs / 2 # Nyquist frequency\n",
    "b_filt,a_filt = scipy.signal.butter(bp_order/2,np.array([lp_Hz,hp_Hz])/fNy,'bandpass')\n",
    "# Zero-pad the data for filtering by concatenating rows of zeros on either side of the data\n",
    "padding = np.zeros_like(data_interpolated)  # Create a padding array of the same shape as Rr_int\n",
    "pad_amt = padding.shape[0]       # Number of rows to pad\n",
    "\n",
    "# Concatenate padding rows on top and bottom of Rr_int\n",
    "temp = np.vstack((padding, data_interpolated, padding))\n",
    "\n",
    "# Apply the filtfilt function (zero-phase filtering)\n",
    "data_filtered  = scipy.signal.filtfilt(b_filt, a_filt, temp, axis=0,padtype=None)  # Apply filtering along the rows (axis=0)\n",
    "data_filtered = data_filtered[pad_amt:-pad_amt]\n",
    "\n",
    "DVAR_post_filter = calculate_dvars_from_cifti(data_filtered)"
   ]
  },
  {
   "cell_type": "code",
   "execution_count": null,
   "metadata": {},
   "outputs": [],
   "source": [
    "plt.figure(figsize=(8,4))\n",
    "plt.subplot(1,2,1)\n",
    "plt.plot(data_interpolated[:,0],linewidth=0.5,label='Pre-filtered signal')\n",
    "plt.plot(data_filtered[:,0],linewidth=0.5,label='Post-filtered signal')\n",
    "# for j in x_removed[x_outsidebound]:\n",
    "#     plt.axvline(x=j, color=\"r\", alpha=0.2)\n",
    "plt.xlabel('TR')\n",
    "plt.legend(loc='best')\n",
    "plt.title('Example signal')\n",
    "\n",
    "plt.subplot(1,2,2)\n",
    "n = data_filtered.shape[0]\n",
    "frequencies = fs*np.arange(0,n//2+1)/n\n",
    "plt.plot(frequencies[1:],calc_power_spectrum(data_interpolated[:,0]),linewidth=0.5,label='Power spectrum for example signal (pre-filter)')\n",
    "plt.plot(frequencies[1:],calc_power_spectrum(data_filtered[:,0]),linewidth=0.5,label='Power spectrum for example signal (post-filter)')\n",
    "plt.xlabel('Hz')\n",
    "plt.title('Frequency spectrum')\n",
    "plt.tight_layout()\n",
    "plt.show()\n",
    "\n",
    "plt.figure(figsize=(2,2))\n",
    "plt.plot(DVAR_post_filter,linewidth=0.5,label='DVARS post bandpass filter')\n",
    "plt.xlabel('TR')\n",
    "plt.title('DVARS')\n",
    "plt.ylim([0,40])\n",
    "plt.show()\n",
    "\n",
    "plt.figure(figsize=(2,2))\n",
    "plt.plot(frequencies[1:],calc_power_spectrum(data_filtered[:,0]),linewidth=0.5,label='Power spectrum for example signal (post-filter)')\n",
    "plt.xlabel('TR')\n",
    "plt.title('Frequency spectrum')\n",
    "plt.ylim([-0.5,15.5])\n",
    "plt.show()"
   ]
  },
  {
   "cell_type": "code",
   "execution_count": null,
   "metadata": {},
   "outputs": [],
   "source": [
    "plt.figure(figsize=(4,4))\n",
    "plt.plot(DVAR_pre_reg,linewidth=0.5,label='DVARS pre regression',color='b')\n",
    "plt.plot(DVAR_post_reg,linewidth=0.5,label='DVARS post regression',color='r')\n",
    "plt.plot(DVAR_post_filter,linewidth=0.5,label='DVARS post filtered',color='g')\n",
    "plt.xlabel('TR')\n",
    "plt.legend()\n",
    "plt.show()"
   ]
  },
  {
   "cell_type": "code",
   "execution_count": null,
   "metadata": {},
   "outputs": [],
   "source": [
    "# Make cifti header to save filtered data\n",
    "# img = nib.load(path_cii)  # This line was run at the beginning \n",
    "ax1 = img.header.get_axis(0)\n",
    "ax2 = img.header.get_axis(1)\n",
    "header = (ax1, ax2)\n",
    "# Make and save image\n",
    "output_img = nib.cifti2.cifti2.Cifti2Image(np.single(data_filtered), header)\n",
    "output_img.to_filename(os.path.join(result_dir,FNL_preproc_CIFTI_basename + '.dtseries.nii'))"
   ]
  },
  {
   "cell_type": "code",
   "execution_count": null,
   "metadata": {},
   "outputs": [],
   "source": [
    "raise SystemExit(\"Stopping execution here\")"
   ]
  },
  {
   "cell_type": "code",
   "execution_count": null,
   "metadata": {},
   "outputs": [],
   "source": [
    "def calc_etasquared(a, b):\n",
    "    \"\"\"\n",
    "    Calculate eta squared based on Cohen 2008 Neuroimage.\n",
    "    \n",
    "    Parameters:\n",
    "    a : np.ndarray\n",
    "        First input array.\n",
    "    b : np.ndarray\n",
    "        Second input array.\n",
    "    \n",
    "    Returns:\n",
    "    etasquared : np.ndarray\n",
    "        Array of eta squared values.\n",
    "    \"\"\"\n",
    "\n",
    "    # Ensure inputs are at least 2D\n",
    "    if a.ndim == 1:\n",
    "        a = a[:, np.newaxis]\n",
    "    if b.ndim == 1:\n",
    "        b = b[:, np.newaxis]\n",
    "\n",
    "    assert a.shape[0] == b.shape[0], 'input size mismatch'\n",
    "\n",
    "    cols_a = a.shape[1]\n",
    "    cols_b = b.shape[1]\n",
    "    etasquared = np.full((cols_b, cols_a), np.nan)\n",
    "\n",
    "    for ia in range(cols_a):\n",
    "        for ib in range(cols_b):\n",
    "            aa = a[:, ia]\n",
    "            bb = b[:, ib]\n",
    "\n",
    "            m = (aa + bb) / 2\n",
    "            Mbar = np.nanmean(m)\n",
    "            \n",
    "            SSwithin = np.nansum((aa - m) ** 2 + (bb - m) ** 2)\n",
    "            SStotal = np.nansum((aa - Mbar) ** 2 + (bb - Mbar) ** 2)\n",
    "            etasquared[ib, ia] = 1 - SSwithin / SStotal\n",
    "\n",
    "    return etasquared"
   ]
  },
  {
   "cell_type": "code",
   "execution_count": null,
   "metadata": {},
   "outputs": [],
   "source": [
    "# check the different outputs\n",
    "#result_dir = '/data/wheelock/data1/datasets/BCP/Example_BCP_intermediates/sub-100619/output_Tu/MNINonLinear/Results/ses-17mo_task-rest_run-001/DCANBOLDProc_v4.0.0'\n",
    "#img_loaded = nib.load(os.path.join(result_dir,'ses-17mo_task-rest_run-001_DCANBOLDProc_v4.0.0_Atlas_MATLAB.dtseries.nii'))\n",
    "#img_loaded = nib.load(path_cii)\n",
    "img_loaded = nib.load('/data/wheelock/data1/datasets/BCP/Example_BCP_intermediates/sub-100619/MNINonLinear/Results/ses-17mo_task-rest_run-001/DCANBOLDProc_v4.0.0/ses-17mo_task-rest_run-001_DCANBOLDProc_v4.0.0_Atlas.dtseries.nii')\n",
    "result_dir = '/data/wheelock/data1/datasets/BCP/Example_BCP_intermediates/sub-100619/output_Tu/MNINonLinear/Results/ses-17mo_task-rest_run-001/DCANBOLDProc_vTu1.0'\n",
    "img_loaded2 = nib.load(os.path.join(result_dir,'ses-17mo_task-rest_run-001_DCANBOLDProc_vTu1.0_Atlas_Python_bandpassfirst.dtseries.nii'))\n",
    "data_loaded = img_loaded.get_fdata()\n",
    "data_loaded2 = img_loaded2.get_fdata()"
   ]
  },
  {
   "cell_type": "code",
   "execution_count": null,
   "metadata": {},
   "outputs": [],
   "source": [
    "eta2 = np.vstack([calc_etasquared(data_loaded[ii,:],data_loaded2[ii,:]) for ii in range(data_loaded.shape[0])])\n",
    "print('Mean {:1.2f},SD {:1.2f},MAE {:1.2f}'.format(np.mean(eta2),np.std(eta2),np.mean(np.abs(data_loaded-data_loaded2))))"
   ]
  },
  {
   "cell_type": "markdown",
   "metadata": {},
   "source": [
    "# Explorations"
   ]
  },
  {
   "cell_type": "markdown",
   "metadata": {},
   "source": [
    "### The effect of not normalizing by Nyquist frequency ### "
   ]
  },
  {
   "cell_type": "code",
   "execution_count": null,
   "metadata": {},
   "outputs": [],
   "source": [
    "file_nofilter = '/data/wheelock/data1/datasets/BCP/Example_BCP_intermediates/sub-100619/output_Tu/MNINonLinear/Results/ses-17mo_task-rest_run-001/Movement_Regressors.txt'\n",
    "signal = np.loadtxt(file_nofilter)\n",
    "\n",
    "signal = signal[:,0]\n",
    "\n",
    "fs = 1 / TR\n",
    "fNy = fs / 2 # Nyquist frequency\n",
    "freq_low = band_stop_min / 60  # Hz, lower range\n",
    "freq_high = band_stop_max / 60  # Hz, higher range\n",
    "b_filt,a_filt = scipy.signal.butter(motion_filter_order,np.array([freq_low,freq_high])/fNy,'bandstop')\n",
    "filtered_signal = scipy.signal.filtfilt(b_filt,a_filt,signal,axis = 0)   \n",
    "b_filt,a_filt = scipy.signal.butter(motion_filter_order,np.array([freq_low,freq_high]),'bandstop')\n",
    "filtered_signal_notnormalized = scipy.signal.filtfilt(b_filt,a_filt,signal,axis = 0) \n",
    "print('filtered')\n",
    "\n",
    "plt.figure(figsize=(6, 6))  \n",
    "plt.subplot(2,1,1)\n",
    "plt.plot(signal)\n",
    "ylims =plt.gca().get_ylim()\n",
    "plt.title('original')\n",
    "plt.subplot(2,1,2)\n",
    "plt.plot(filtered_signal,label='with normalization')\n",
    "plt.plot(filtered_signal_notnormalized,label='without normalization')\n",
    "plt.ylim(ylims)\n",
    "plt.title('filtered')\n",
    "plt.legend()\n",
    "plt.tight_layout()\n",
    "plt.show()"
   ]
  },
  {
   "cell_type": "code",
   "execution_count": null,
   "metadata": {},
   "outputs": [],
   "source": [
    "fs = 1 / TR  # Sampling frequency: 1 frame per 0.8 seconds => 1.25 Hz\n",
    "N = filtered_signal.shape[0]  # Number of data points\n",
    "xf = np.linspace(0.0, fs / 2.0, N // 2)\n",
    "\n",
    "# Compute power spectrum\n",
    "power_spectrum = calc_power_spectrum(signal)\n",
    "power_spectrum_filtered = calc_power_spectrum(filtered_signal)\n",
    "power_spectrum_filtered_notnormalized = calc_power_spectrum(filtered_signal_notnormalized)\n",
    "\n",
    "\n",
    "plt.figure(figsize=(6, 6))  \n",
    "plt.subplot(2,1,1)\n",
    "plt.plot(xf,power_spectrum)\n",
    "plt.title('original')\n",
    "ylims =plt.gca().get_ylim()\n",
    "plt.subplot(2,1,2)\n",
    "plt.plot(xf,power_spectrum_filtered,label='with normalization')\n",
    "plt.plot(xf,power_spectrum_filtered_notnormalized,label='without normalization')\n",
    "plt.title('filtered')\n",
    "plt.ylim(ylims)\n",
    "plt.legend()\n",
    "plt.tight_layout()\n",
    "plt.show()"
   ]
  },
  {
   "cell_type": "markdown",
   "metadata": {},
   "source": [
    "### Notch filter problem from xcp-d"
   ]
  },
  {
   "cell_type": "code",
   "execution_count": 13,
   "metadata": {},
   "outputs": [],
   "source": [
    "from scipy.signal import butter, filtfilt, iirnotch\n",
    "def filter_motion(\n",
    "    data,\n",
    "    TR,\n",
    "    motion_filter_type,\n",
    "    band_stop_min,\n",
    "    band_stop_max,\n",
    "    motion_filter_order,\n",
    "):\n",
    "    \n",
    "    if motion_filter_type not in (\"lp\", \"notch\"):\n",
    "        raise ValueError(f\"Motion filter type '{motion_filter_type}' not supported.\")\n",
    "\n",
    "    lowpass_hz = band_stop_min / 60\n",
    "\n",
    "    sampling_frequency = 1 / TR\n",
    "\n",
    "    if motion_filter_type == \"lp\":  # low-pass filter\n",
    "        b, a = butter(\n",
    "            motion_filter_order / 2,\n",
    "            lowpass_hz,\n",
    "            btype=\"lowpass\",\n",
    "            output=\"ba\",\n",
    "            fs=sampling_frequency,\n",
    "        )\n",
    "        filtered_data = filtfilt(b, a, data, axis=0, padtype=\"constant\", padlen=data.shape[0] - 1)\n",
    "\n",
    "    else:  # notch filter\n",
    "        highpass_hz = band_stop_max / 60\n",
    "        stopband_hz = np.array([lowpass_hz, highpass_hz])\n",
    "        # Convert stopband to a single notch frequency.\n",
    "        freq_to_remove = np.mean(stopband_hz)\n",
    "        bandwidth = np.abs(np.diff(stopband_hz))\n",
    "\n",
    "        # Create filter coefficients.\n",
    "        b, a = iirnotch(freq_to_remove, freq_to_remove / bandwidth, fs=sampling_frequency)\n",
    "        n_filter_applications = int(np.floor(motion_filter_order / 2))\n",
    "\n",
    "        filtered_data = data.copy()\n",
    "        for _ in range(n_filter_applications):\n",
    "            filtered_data = filtfilt(\n",
    "                b,\n",
    "                a,\n",
    "                filtered_data,\n",
    "                axis=0,\n",
    "                padtype=\"constant\",\n",
    "                padlen=data.shape[0] - 1,\n",
    "            )\n",
    "\n",
    "    return filtered_data\n",
    "\n",
    "def filter_motion_butter(\n",
    "    data,\n",
    "    TR,\n",
    "    motion_filter_type,\n",
    "    band_stop_min,\n",
    "    band_stop_max,\n",
    "    motion_filter_order,    \n",
    "):\n",
    "    if motion_filter_type not in (\"lp\", \"notch\"):\n",
    "        raise ValueError(f\"Motion filter type '{motion_filter_type}' not supported.\")\n",
    "\n",
    "    lowpass_hz = band_stop_min / 60\n",
    "\n",
    "    sampling_frequency = 1 / TR\n",
    "\n",
    "    if motion_filter_type == \"lp\":  # low-pass filter\n",
    "        b, a = butter(\n",
    "            motion_filter_order / 2,\n",
    "            lowpass_hz,\n",
    "            btype=\"lowpass\",\n",
    "            output=\"ba\",\n",
    "            fs=sampling_frequency,\n",
    "        )\n",
    "        filtered_data = filtfilt(b, a, data, axis=0, padtype=\"constant\", padlen=data.shape[0] - 1)\n",
    "\n",
    "    else:  # notch filter\n",
    "        highpass_hz = band_stop_max / 60\n",
    "        stopband_hz = np.array([lowpass_hz, highpass_hz])\n",
    "        # Convert stopband to a single notch frequency.\n",
    "        freq_to_remove = np.mean(stopband_hz)\n",
    "        bandwidth = np.abs(np.diff(stopband_hz))\n",
    "\n",
    "        # Create filter coefficients.\n",
    "        b, a = butter(\n",
    "            motion_filter_order / 2,\n",
    "            stopband_hz,\n",
    "            btype=\"bandstop\",\n",
    "            output=\"ba\",\n",
    "            fs=sampling_frequency,\n",
    "        )\n",
    "\n",
    "        filtered_data = data.copy()\n",
    "        filtered_data = filtfilt(\n",
    "                b,\n",
    "                a,\n",
    "                data,\n",
    "                axis=0,\n",
    "                padtype=\"constant\",\n",
    "                padlen=data.shape[0] - 1,\n",
    "            )\n",
    "\n",
    "    return filtered_data\n",
    "    "
   ]
  },
  {
   "cell_type": "code",
   "execution_count": 19,
   "metadata": {},
   "outputs": [
    {
     "data": {
      "image/png": "[encoded data removed]",
      "text/plain": [
       "<Figure size 500x400 with 2 Axes>"
      ]
     },
     "metadata": {},
     "output_type": "display_data"
    }
   ],
   "source": [
    "fs = 1 / TR  # Sampling frequency: 1 frame per 0.8 seconds => 1.25 Hz\n",
    "N = unfiltered_mov_regressors.shape[0]  # Number of data points\n",
    "xf = np.linspace(0.0, fs / 2.0, N // 2)\n",
    "\n",
    "xcpd_filtered_signal = filter_motion(\n",
    "    unfiltered_mov_regressors[:,:6],\n",
    "    TR,\n",
    "    motion_filter_type,\n",
    "    band_stop_min,\n",
    "    band_stop_max,\n",
    "    motion_filter_order)\n",
    "Tu_filtered_signal = filter_motion_butter(\n",
    "    unfiltered_mov_regressors[:,:6],\n",
    "    TR,\n",
    "    motion_filter_type,\n",
    "    band_stop_min,\n",
    "    band_stop_max,\n",
    "    motion_filter_order)\n",
    "\n",
    "# Compute power spectrum\n",
    "icol = 1\n",
    "power_spectrum = calc_power_spectrum(unfiltered_mov_regressors[:,icol])\n",
    "power_spectrum_filtered_xcpd = calc_power_spectrum(xcpd_filtered_signal[:,icol])\n",
    "power_spectrum_filtered_Tu = calc_power_spectrum(Tu_filtered_signal[:,icol])\n",
    "\n",
    "\n",
    "plt.figure(figsize=(5, 4))  \n",
    "plt.subplot(2,1,1)\n",
    "plt.plot(xf,power_spectrum)\n",
    "plt.title('original')\n",
    "ylims =plt.gca().get_ylim()\n",
    "plt.xlim([0.2,0.5])\n",
    "plt.subplot(2,1,2)\n",
    "plt.plot(xf,power_spectrum_filtered_xcpd,label='xcp-d')\n",
    "plt.plot(xf,power_spectrum_filtered_Tu,label='Tu')\n",
    "plt.title('filtered')\n",
    "plt.ylim(ylims)\n",
    "plt.xlim([0.2,0.5])\n",
    "plt.legend()\n",
    "plt.tight_layout()\n",
    "plt.show()\n"
   ]
  },
  {
   "cell_type": "code",
   "execution_count": 17,
   "metadata": {},
   "outputs": [
    {
     "data": {
      "image/png": "[encoded data removed]",
      "text/plain": [
       "<Figure size 640x480 with 2 Axes>"
      ]
     },
     "metadata": {},
     "output_type": "display_data"
    }
   ],
   "source": [
    "\n",
    "plt.imshow(np.expand_dims(power_spectrum,axis = 1),aspect='auto',cmap='jet')\n",
    "plt.colorbar()\n",
    "plt.show()"
   ]
  },
  {
   "cell_type": "code",
   "execution_count": 31,
   "metadata": {},
   "outputs": [
    {
     "data": {
      "image/png": "[encoded data removed]",
      "text/plain": [
       "<Figure size 1200x600 with 2 Axes>"
      ]
     },
     "metadata": {},
     "output_type": "display_data"
    }
   ],
   "source": [
    "import numpy as np\n",
    "import matplotlib.pyplot as plt\n",
    "from scipy.signal import butter, filtfilt, sosfiltfilt\n",
    "\n",
    "# Sample data\n",
    "fs = 500  # Sampling frequency\n",
    "t = np.linspace(0, 1, fs, endpoint=False)  # Time vector\n",
    "signal = np.sin(2 * np.pi * 10 * t) + 0.5 * np.random.normal(size=t.shape)  # Noisy signal\n",
    "\n",
    "# Design a low-pass Butterworth filter\n",
    "order = 10\n",
    "cutoff = 15  # Cutoff frequency\n",
    "sos = butter(order/2, cutoff, fs=fs,output='sos')  \n",
    "filtered_signal_filtfilt = sosfiltfilt(sos, signal)\n",
    "\n",
    "sos = butter(2, cutoff, fs=fs,output='sos')  \n",
    "filtered_signal_repfiltfilt = signal.copy()\n",
    "n_filter_applications = int(np.floor(order / 2))\n",
    "for i in range(n_filter_applications):\n",
    "        filtered_signal_repfiltfilt = sosfiltfilt(sos,filtered_signal_repfiltfilt)\n",
    "\n",
    "# Plot results\n",
    "plt.figure(figsize=(12, 6))\n",
    "plt.subplot(2, 1, 1)\n",
    "plt.plot(t, signal, label='Noisy Signal', color='orange')\n",
    "plt.title('Noisy Signal')\n",
    "plt.grid()\n",
    "\n",
    "plt.subplot(2, 1, 2)\n",
    "plt.plot(t, filtered_signal_filtfilt, label='Filtered Signal (filtfilt)', color='blue')\n",
    "plt.plot(t, filtered_signal_repfiltfilt, label='Filtered Signal (repeated applying filtfilt to 2-nd order)', color='green', linestyle='--')\n",
    "plt.title('Filtered Signals Comparison')\n",
    "plt.legend()\n",
    "plt.grid()\n",
    "\n",
    "plt.tight_layout()\n",
    "plt.show()"
   ]
  },
  {
   "cell_type": "markdown",
   "metadata": {},
   "source": [
    "### Compare the DCAN-MATLAB filtered movement parameters and Tu-Python filtered movement parameters ###"
   ]
  },
  {
   "cell_type": "code",
   "execution_count": null,
   "metadata": {},
   "outputs": [],
   "source": [
    "#file_mov_reg = '/data/wheelock/data1/datasets/BCP/Example_BCP_intermediates/sub-100619/output_Tu/MNINonLinear/Results/ses-17mo_task-rest_run-001/DCANBOLDProc_vTu1.0/DCANBOLDProc_vTu1.0_bs16.8896_28.6662_filtered_Movement_Regressors.txt'\n",
    "file_mov_reg = '/data/wheelock/data1/datasets/BCP/Example_BCP_intermediates/sub-100619/output_Tu/MNINonLinear/Results/ses-17mo_task-rest_run-001/Movement_Regressors_filtered_matlabscript.txt'\n",
    "dcan_filtered_signal = np.loadtxt(file_mov_reg)\n",
    "plt.figure(figsize=(6,4))\n",
    "plt.subplot(1,2,1)\n",
    "plt.plot(dcan_filtered_signal[:,:3],lw=0.5)\n",
    "plt.title('DCAN-MATLAB')\n",
    "file_mov_reg = '/data/wheelock/data1/datasets/BCP/Example_BCP_intermediates/sub-100619/output_Tu/MNINonLinear/Results/ses-17mo_task-rest_run-001/Movement_Regressors.txt'\n",
    "unfiltered_mov_regressors = np.loadtxt(file_mov_reg)\n",
    "filtered_mov_regressors = filter_movement_regressors(unfiltered_mov_regressors, TR, motion_filter_order, motion_filter_type, band_stop_min, band_stop_max)\n",
    "plt.subplot(1,2,2)\n",
    "plt.plot(filtered_mov_regressors[:,:3],lw=0.5)\n",
    "plt.title('Tu-Python')\n",
    "# N.B. The columns 4-6 (and 9-12) are not directly comparable to DCAN because rotations are in degrees not arc length\n",
    "plt.tight_layout()\n",
    "plt.show()"
   ]
  },
  {
   "cell_type": "code",
   "execution_count": null,
   "metadata": {},
   "outputs": [],
   "source": [
    "plt.figure(figsize=(5, 4)) \n",
    "plt.subplot(2,1,1)\n",
    "plt.plot(unfiltered_mov_regressors[:,0],lw=0.5)\n",
    "ylims =plt.gca().get_ylim()\n",
    "plt.title('original')\n",
    "plt.subplot(2,1,2)\n",
    "plt.plot(dcan_filtered_signal[:,0],lw=0.5,color='c',label='DCAN-MATLAB')\n",
    "plt.plot(filtered_mov_regressors[:,0],lw=0.5,color='m',label='Tu-Python')\n",
    "plt.ylim(ylims)\n",
    "plt.title('filtered')\n",
    "plt.legend()\n",
    "plt.tight_layout()\n",
    "plt.show()"
   ]
  },
  {
   "cell_type": "code",
   "execution_count": null,
   "metadata": {},
   "outputs": [],
   "source": [
    "fs = 1 / TR  # Sampling frequency: 1 frame per 0.8 seconds => 1.25 Hz\n",
    "N = unfiltered_mov_regressors.shape[0]  # Number of data points\n",
    "xf = np.linspace(0.0, fs / 2.0, N // 2)\n",
    "\n",
    "# Compute power spectrum\n",
    "power_spectrum = calc_power_spectrum(unfiltered_mov_regressors[:,0])\n",
    "power_spectrum_filtered_DCAN = calc_power_spectrum(dcan_filtered_signal[:,0])\n",
    "power_spectrum_filtered_Tu = calc_power_spectrum(filtered_mov_regressors[:,0])\n",
    "\n",
    "\n",
    "plt.figure(figsize=(5, 4))  \n",
    "plt.subplot(2,1,1)\n",
    "plt.plot(xf,power_spectrum)\n",
    "plt.title('original')\n",
    "ylims =plt.gca().get_ylim()\n",
    "plt.subplot(2,1,2)\n",
    "plt.plot(xf,power_spectrum_filtered_DCAN,label='DCAN')\n",
    "plt.plot(xf,power_spectrum_filtered_Tu,label='Tu')\n",
    "plt.title('filtered')\n",
    "plt.ylim(ylims)\n",
    "plt.legend()\n",
    "plt.tight_layout()\n",
    "plt.show()"
   ]
  },
  {
   "cell_type": "markdown",
   "metadata": {},
   "source": [
    "### Compare the DCAN-MATLAB FD and Tu-Python FD\n",
    "DCAN-MATLAB FD had a bug where it assumed the columns 4-6 are in degrees but the filtered movement parameters they saved was already in arc length"
   ]
  },
  {
   "cell_type": "code",
   "execution_count": null,
   "metadata": {},
   "outputs": [],
   "source": [
    "from scipy.io import loadmat\n",
    "FD_DCAN = loadmat('/data/wheelock/data1/datasets/BCP/Example_BCP_intermediates/sub-100619/output_Tu/MNINonLinear/Results/ses-17mo_task-rest_run-001/DCANBOLDProc_vTu1.0/FD.mat')['FD'].squeeze()\n",
    "path_mov_reg = '/data/wheelock/data1/datasets/BCP/Example_BCP_intermediates/sub-100619/output_Tu/MNINonLinear/Results/ses-17mo_task-rest_run-001/Movement_Regressors.txt'\n",
    "unfiltered_mov_regressors = np.loadtxt(path_mov_reg)\n",
    "filtered_mov_regressors = filter_movement_regressors(unfiltered_mov_regressors[:,:6], TR, motion_filter_order, motion_filter_type, band_stop_min, band_stop_max)\n",
    "FD,meanFD = calc_FD(filtered_mov_regressors,1)\n",
    "filtered_mov_regressors_arclength = filtered_mov_regressors.copy()\n",
    "filtered_mov_regressors_arclength[:,3:] = filtered_mov_regressors[:,3:]*np.pi*brain_radius_mm/180\n",
    "FD_arclength,meanFDarclength = calc_FD(filtered_mov_regressors_arclength,1)"
   ]
  },
  {
   "cell_type": "code",
   "execution_count": null,
   "metadata": {},
   "outputs": [],
   "source": [
    "# Effect of calculating arc length twice (reduces FD but effect is small when the movement is small)\n",
    "plt.plot(FD,label='Tu-Python(arc length calculated once)',linewidth=0.5)\n",
    "plt.plot(FD_arclength,label='Tu-Python(arc length calculated twice)',linewidth=0.5)\n",
    "plt.legend()\n",
    "plt.title('FD')\n",
    "plt.xlabel('TR')\n",
    "plt.show()\n",
    "print((meanFD,meanFDarclength))\n",
    "\n",
    "plt.figure()\n",
    "plt.plot(FD-FD_arclength)\n",
    "plt.title('Difference')\n",
    "plt.xlabel('TR')\n",
    "plt.show()"
   ]
  },
  {
   "cell_type": "code",
   "execution_count": null,
   "metadata": {},
   "outputs": [],
   "source": [
    "# Compare the saved DCAN output with the python output (note that there are differences in the filter too)\n",
    "plt.plot(FD,label='Tu-Python(arc length calculated once)',linewidth=0.5)\n",
    "plt.plot(FD_arclength,label='Tu-Python (arc length calculated twice)',linewidth=0.5)\n",
    "plt.plot(FD_DCAN, label='DCAN-MATLAB',linewidth=0.5)\n",
    "plt.legend()\n",
    "plt.title('FD')\n",
    "plt.xlabel('TR')\n",
    "plt.show()\n",
    "print((np.mean(FD_DCAN),meanFDarclength,meanFD))\n",
    "print(np.sum(FD_DCAN < fd_th),np.sum(FD_arclength<fd_th),np.sum(FD < fd_th))"
   ]
  },
  {
   "cell_type": "markdown",
   "metadata": {},
   "source": [
    "### Making Friston regressors from filtered V.S. unfiltered movement parameters"
   ]
  },
  {
   "cell_type": "code",
   "execution_count": null,
   "metadata": {},
   "outputs": [],
   "source": [
    "FR_DCAN = loadmat('/data/wheelock/data1/datasets/BCP/Example_BCP_intermediates/sub-100619/output_Tu/MNINonLinear/Results/ses-17mo_task-rest_run-001/DCANBOLDProc_v4.0.0/FR.mat')['FR']\n",
    "FR_filtered = make_friston_regressors(filtered_mov_regressors, hd_mm=50)\n",
    "FR_unfiltered = make_friston_regressors(unfiltered_mov_regressors, hd_mm=50)\n",
    "FR_arclength = make_friston_regressors(filtered_mov_regressors_arclength,hd_mm=50)\n"
   ]
  },
  {
   "cell_type": "code",
   "execution_count": null,
   "metadata": {},
   "outputs": [],
   "source": [
    "plt.figure(figsize = (6,6))\n",
    "plt.subplot(2,2,1)\n",
    "plt.plot(FR_unfiltered,linewidth=0.5)\n",
    "plt.ylim([-0.6,0.6])\n",
    "plt.title('Unfiltered')\n",
    "plt.xlabel('TR')\n",
    "plt.subplot(2,2,2)\n",
    "plt.plot(FR_filtered,linewidth=0.5)\n",
    "plt.ylim([-0.6,0.6])\n",
    "plt.title('Bandstop filtered')\n",
    "plt.xlabel('TR')\n",
    "plt.subplot(2,2,3)\n",
    "plt.plot(FR_arclength,linewidth=0.5)\n",
    "plt.ylim([-0.6,0.6])\n",
    "plt.title('Repeated arc length')\n",
    "plt.xlabel('TR')\n",
    "plt.subplot(2,2,4)\n",
    "plt.plot(FR_DCAN,linewidth=0.5)\n",
    "plt.ylim([-0.6,0.6])\n",
    "plt.title('DCAN-MATLAB output')\n",
    "plt.xlabel('TR')\n",
    "plt.tight_layout()\n",
    "plt.show()"
   ]
  },
  {
   "cell_type": "code",
   "execution_count": null,
   "metadata": {},
   "outputs": [],
   "source": [
    "# Unfiltered\n",
    "R = np.concatenate((Glob,dGlob,FR_unfiltered),axis = 1) # with GSR\n",
    "# Demean/detrend regressors\n",
    "R = R-np.mean(R[keepframe,:],axis = 0)\n",
    "R = detrend_manual(R,keepframe)\n",
    "# Nuisance Regression\n",
    "b,_,_,_ = np.linalg.lstsq(R[keepframe,:],data_dd[keepframe,:],rcond=None)\n",
    "data_postreg = data_dd-R@b\n",
    "DVAR_post_reg_unfiltered = calculate_dvars_from_cifti(data_postreg)\n",
    "\n",
    "# Filtered\n",
    "R = np.concatenate((Glob,dGlob,FR_filtered),axis = 1) # with GSR\n",
    "# Demean/detrend regressors\n",
    "R = R-np.mean(R[keepframe,:],axis = 0)\n",
    "R = detrend_manual(R,keepframe)\n",
    "# Nuisance Regression\n",
    "b,_,_,_ = np.linalg.lstsq(R[keepframe,:],data_dd[keepframe,:],rcond=None)\n",
    "data_postreg = data_dd-R@b\n",
    "DVAR_post_reg_filtered = calculate_dvars_from_cifti(data_postreg)\n",
    "\n",
    "# Repeated arc length\n",
    "R = np.concatenate((Glob,dGlob,FR_arclength),axis = 1) # with GSR\n",
    "# Demean/detrend regressors\n",
    "R = R-np.mean(R[keepframe,:],axis = 0)\n",
    "R = detrend_manual(R,keepframe)\n",
    "# Nuisance Regression\n",
    "b,_,_,_ = np.linalg.lstsq(R[keepframe,:],data_dd[keepframe,:],rcond=None)\n",
    "data_postreg = data_dd-R@b\n",
    "DVAR_post_reg_arclength = calculate_dvars_from_cifti(data_postreg)\n",
    "\n",
    "# DCAN\n",
    "R = np.concatenate((Glob,dGlob,FR_arclength),axis = 1) # with GSR\n",
    "# Demean/detrend regressors\n",
    "R = R-np.mean(R[keepframe,:],axis = 0)\n",
    "R = detrend_manual(R,keepframe)\n",
    "# Nuisance Regression\n",
    "b,_,_,_ = np.linalg.lstsq(R[keepframe,:],data_dd[keepframe,:],rcond=None)\n",
    "data_postreg = data_dd-R@b\n",
    "DVAR_post_reg_DCAN = calculate_dvars_from_cifti(data_postreg)"
   ]
  },
  {
   "cell_type": "code",
   "execution_count": null,
   "metadata": {},
   "outputs": [],
   "source": [
    "plt.figure(figsize=(8,4))\n",
    "plt.subplot(1,2,1)\n",
    "plt.plot(DVAR_pre_reg,linewidth=0.5)\n",
    "plt.title('DVARS pre regression')\n",
    "plt.xlabel('TR')\n",
    "plt.subplot(1,2,2)\n",
    "plt.plot(DVAR_post_reg_unfiltered,linewidth=0.5,label='Unfiltered',color='c')\n",
    "plt.plot(DVAR_post_reg_filtered,linewidth=0.5,label='Bandstop filtered',color='m')\n",
    "plt.plot(DVAR_post_reg_filtered,linewidth=0.5,label='Repeated arc length',color='r')\n",
    "plt.plot(DVAR_post_reg_filtered,linewidth=0.5,label='DCAN-MATLAB output',color='b')\n",
    "plt.title('DVARS post regression')\n",
    "plt.xlabel('TR')\n",
    "plt.tight_layout()\n",
    "plt.legend()\n",
    "plt.show()\n",
    "\n",
    "plt.figure(figsize=(3,3))\n",
    "plt.plot(DVAR_post_reg_unfiltered-DVAR_post_reg_filtered,linewidth=0.5)\n",
    "plt.title('bandstop unfiltered - bandstop filtered')\n",
    "plt.show()\n",
    "\n",
    "plt.figure(figsize=(8,4))\n",
    "plt.plot(DVAR_post_reg_unfiltered,linewidth=0.5,label='Unfiltered',color='c')\n",
    "plt.plot(DVAR_post_reg_filtered,linewidth=0.5,label='Bandstop filtered',color='m')\n",
    "plt.plot(DVAR_post_reg_filtered,linewidth=0.5,label='Repeated arc length',color='r')\n",
    "plt.plot(DVAR_post_reg_filtered,linewidth=0.5,label='DCAN-MATLAB output',color='b')\n",
    "plt.title('DVARS post regression')\n",
    "plt.xlabel('TR')\n",
    "plt.legend()\n",
    "plt.show()"
   ]
  },
  {
   "cell_type": "markdown",
   "metadata": {},
   "source": [
    "### Effect of making the extrapolated signals to mean instead of keeping the extrapolated values\n"
   ]
  },
  {
   "cell_type": "code",
   "execution_count": null,
   "metadata": {},
   "outputs": [],
   "source": [
    "# Linear interpolation before bandpass filter (Line 144 in dcan_signal_processing.m)\n",
    "# Interpolate for missing frames\n",
    "x = np.where(keepframe)[0]\n",
    "x_removed =  np.where(keepframe==0)[0]\n",
    "x_outsidebound = (x_removed<x[0])|(x_removed>x[-1])\n",
    "y_removed = np.apply_along_axis(\n",
    "    lambda col: np.interp(x_removed, x, col[keepframe]), \n",
    "    axis=0, \n",
    "    arr=data_postreg\n",
    ")\n",
    "# Replace extrapolated points with the mean of kept data\n",
    "y_mean = np.mean(data_postreg[keepframe,:],axis=0)\n",
    "y_removed_withextrapolation = np.copy(y_removed)\n",
    "y_removed[x_outsidebound,:] = y_mean \n",
    "\n",
    "data_interpolated = data_postreg.copy()\n",
    "data_interpolated[keepframe==0,:] = y_removed\n",
    "data_filtered = filter_bandpass(data_interpolated, TR, bp_order, lp_Hz , hp_Hz)\n",
    "data_interpolated_withextrapolation  = data_postreg.copy()\n",
    "data_interpolated_withextrapolation[keepframe==0,:] = y_removed_withextrapolation \n",
    "data_filtered_withextrapolation = filter_bandpass(data_interpolated_withextrapolation, TR, bp_order, lp_Hz , hp_Hz)"
   ]
  },
  {
   "cell_type": "code",
   "execution_count": null,
   "metadata": {},
   "outputs": [],
   "source": [
    "plt.figure(figsize=(6,4))\n",
    "plt.plot(data_interpolated[:,0],linewidth=0.5,label='removing extrapolation with mean')\n",
    "plt.plot(data_interpolated_withextrapolation[:,0],linewidth=0.5,label='with extrapolation')\n",
    "plt.xlabel('TR')\n",
    "plt.legend(loc='best')\n",
    "plt.tight_layout()\n",
    "plt.show()\n",
    "plt.figure(figsize=(6,4))\n",
    "plt.plot(data_filtered[:,0],linewidth=0.5,label='removing extrapolation with mean')\n",
    "plt.plot(data_filtered_withextrapolation[:,0],linewidth=0.5,label='with extrapolation')\n",
    "plt.xlabel('TR')\n",
    "plt.legend(loc='best')\n",
    "plt.tight_layout()\n",
    "plt.show()"
   ]
  },
  {
   "cell_type": "markdown",
   "metadata": {},
   "source": [
    "### Compare different padding before bandpass filter"
   ]
  },
  {
   "cell_type": "code",
   "execution_count": null,
   "metadata": {},
   "outputs": [],
   "source": [
    "# Bandpass filter\n",
    "fs = 1 / TR\n",
    "fNy = fs / 2 # Nyquist frequency\n",
    "b_filt,a_filt = scipy.signal.butter(bp_order/2,np.array([lp_Hz,hp_Hz])/fNy,'bandpass')\n",
    "# print(3*max(len(a_filt),len(b_filt))) # Default pad length\n",
    "data_filtered = scipy.signal.filtfilt(b_filt,a_filt,data_interpolated,axis = 0,padtype='constant',padlen=data.shape[0]-1)\n",
    "# data_filtered = scipy.signal.filtfilt(b_filt,a_filt,data_interpolated,axis = 0,padtype=None)\n",
    "DVAR_post_filter = calculate_dvars_from_cifti(data_filtered)"
   ]
  },
  {
   "cell_type": "code",
   "execution_count": null,
   "metadata": {},
   "outputs": [],
   "source": [
    "# Bandpass filter with manual zero padding\n",
    "fs = 1 / TR\n",
    "fNy = fs / 2 # Nyquist frequency\n",
    "b_filt,a_filt = scipy.signal.butter(bp_order/2,np.array([lp_Hz,hp_Hz])/fNy,'bandpass')\n",
    "# Zero-pad the data for filtering by concatenating rows of zeros on either side of the data\n",
    "padding = np.zeros_like(data_interpolated)  # Create a padding array of the same shape as Rr_int\n",
    "pad_amt = padding.shape[0]       # Number of rows to pad\n",
    "\n",
    "# Concatenate padding rows on top and bottom of Rr_int\n",
    "temp = np.vstack((padding, data_interpolated, padding))\n",
    "\n",
    "# Apply the filtfilt function (zero-phase filtering)\n",
    "data_filtered  = scipy.signal.filtfilt(b_filt, a_filt, temp, axis=0,padtype=None)  # Apply filtering along the rows (axis=0)\n",
    "data_filtered = data_filtered[pad_amt:-pad_amt]\n",
    "\n",
    "DVAR_post_filter = calculate_dvars_from_cifti(data_filtered)"
   ]
  },
  {
   "cell_type": "code",
   "execution_count": null,
   "metadata": {},
   "outputs": [],
   "source": [
    "plt.plot(data_interpolated)\n",
    "plt.show()"
   ]
  },
  {
   "cell_type": "code",
   "execution_count": null,
   "metadata": {},
   "outputs": [],
   "source": [
    "plt.figure(figsize=(6,4))\n",
    "plt.plot(data_interpolated[:,0],linewidth=0.5,label='example pre-filtered signal')\n",
    "plt.plot(data_filtered[:,0],linewidth=0.5,label='example post-filtered signal')\n",
    "# for j in x_removed[x_outsidebound]:\n",
    "#     plt.axvline(x=j, color=\"r\", alpha=0.2)\n",
    "plt.xlabel('TR')\n",
    "plt.legend(loc='best')\n",
    "plt.tight_layout()\n",
    "plt.show()\n"
   ]
  },
  {
   "cell_type": "code",
   "execution_count": null,
   "metadata": {},
   "outputs": [],
   "source": [
    "plt.figure(figsize=(4,2))\n",
    "plt.subplot(1,2,1)\n",
    "plt.plot(DVAR_post_filter,linewidth=0.5,label='DVARS post bandpass filter')\n",
    "plt.xlabel('TR')\n",
    "plt.title('DVARS')\n",
    "plt.ylim([0,40])\n",
    "plt.subplot(1,2,2)\n",
    "n = data_filtered.shape[0]\n",
    "frequencies = fs*np.arange(0,n//2+1)/n\n",
    "plt.plot(frequencies[1:],calc_power_spectrum(data_filtered[:,0]),linewidth=0.5,label='Power spectrum for example signal')\n",
    "plt.xlabel('Hz')\n",
    "plt.title('Frequency spectrum')\n",
    "plt.show()"
   ]
  },
  {
   "cell_type": "markdown",
   "metadata": {},
   "source": [
    "### Change the order of regression and bandpass filtering"
   ]
  },
  {
   "cell_type": "code",
   "execution_count": null,
   "metadata": {},
   "outputs": [],
   "source": [
    "# Linear interpolation before bandpass filter (Line 144 in dcan_signal_processing.m)\n",
    "# Interpolate for missing frames\n",
    "x = np.where(keepframe)[0]\n",
    "x_removed =  np.where(keepframe==0)[0]\n",
    "x_outsidebound = (x_removed<x[0])|(x_removed>x[-1])\n",
    "\n",
    "y_removed = np.apply_along_axis(\n",
    "    lambda col: np.interp(x_removed, x, col[keepframe]), \n",
    "    axis=0, \n",
    "    arr=data_dd\n",
    ")\n",
    "R_removed = np.apply_along_axis(\n",
    "    lambda col: np.interp(x_removed, x, col[keepframe]), \n",
    "    axis=0, \n",
    "    arr=R\n",
    ")\n",
    "\n",
    "# Replace extrapolated points with the mean of kept data\n",
    "y_mean = np.mean(data_dd[keepframe,:],axis=0)\n",
    "y_removed[x_outsidebound,:] = y_mean \n",
    "R_mean = np.mean(R[keepframe,:],axis=0)\n",
    "R_removed[x_outsidebound,:] = R_mean\n",
    "\n",
    "data_interpolated = data_dd.copy()\n",
    "data_interpolated[keepframe==0,:] = y_removed\n",
    "\n",
    "R_interpolated = R.copy()\n",
    "R_interpolated[keepframe==0,:] = R_removed\n"
   ]
  },
  {
   "cell_type": "code",
   "execution_count": null,
   "metadata": {},
   "outputs": [],
   "source": [
    "# bandpass filter the cifti grayordinates\n",
    "fs = 1 / TR\n",
    "fNy = fs / 2 # Nyquist frequency\n",
    "b_filt,a_filt = scipy.signal.butter(bp_order/2,np.array([lp_Hz,hp_Hz])/fNy,'bandpass')\n",
    "\n",
    "# Zero-pad the data for filtering by concatenating rows of zeros on either side of the data\n",
    "padding = np.zeros_like(data)  # Create a padding array of the same shape as Rr_int\n",
    "pad_amt = padding.shape[0]       # Number of rows to pad\n",
    "\n",
    "# Concatenate padding rows on top and bottom of Rr_int\n",
    "temp = np.vstack((padding, data_interpolated, padding))\n",
    "\n",
    "# Apply the filtfilt function (zero-phase filtering)\n",
    "data_filtered  = scipy.signal.filtfilt(b_filt, a_filt, temp, axis=0,padtype=None)  # Apply filtering along the rows (axis=0)\n",
    "data_filtered = data_filtered[pad_amt:-pad_amt]\n",
    "\n",
    "DVAR_post_filter = calculate_dvars_from_cifti(data_filtered)\n",
    "\n",
    "# Zero-pad the data for filtering by concatenating rows of zeros on either side of the data\n",
    "padding = np.zeros_like(R)  # Create a padding array of the same shape as Rr_int\n",
    "pad_amt = padding.shape[0]       # Number of rows to pad\n",
    "\n",
    "# Concatenate padding rows on top and bottom of Rr_int\n",
    "temp = np.vstack((padding, R_interpolated, padding))\n",
    "\n",
    "# Apply the filtfilt function (zero-phase filtering)\n",
    "R_filtered  = scipy.signal.filtfilt(b_filt, a_filt, temp, axis=0,padtype=None)  # Apply filtering along the rows (axis=0)\n",
    "R_filtered = R_filtered[pad_amt:-pad_amt]"
   ]
  },
  {
   "cell_type": "code",
   "execution_count": null,
   "metadata": {},
   "outputs": [],
   "source": [
    "plt.figure(figsize=(4,2))\n",
    "plt.subplot(1,2,1)\n",
    "plt.plot(DVAR_post_filter,linewidth=0.5,label='DVARS post bandpass filter')\n",
    "plt.xlabel('TR')\n",
    "plt.title('DVARS')\n",
    "plt.subplot(1,2,2)\n",
    "n = data.shape[0]\n",
    "frequencies = fs*np.arange(0,n//2+1)/n\n",
    "plt.plot(frequencies[1:],calc_power_spectrum(data_filtered[:,0]),linewidth=0.5,label='Power spectrum for example signal')\n",
    "plt.xlabel('Hz')\n",
    "plt.title('Frequency spectrum')\n",
    "plt.show()"
   ]
  },
  {
   "cell_type": "code",
   "execution_count": null,
   "metadata": {},
   "outputs": [],
   "source": [
    "# Now regression\n",
    "b,_,_,_ = np.linalg.lstsq(R_filtered[keepframe,:],data_filtered[keepframe,:],rcond=None)\n",
    "data_postreg = data_filtered-R_filtered@b\n",
    "DVAR_post_reg = calculate_dvars_from_cifti(data_postreg)"
   ]
  },
  {
   "cell_type": "code",
   "execution_count": null,
   "metadata": {},
   "outputs": [],
   "source": [
    "# Make cifti header to save filtered data\n",
    "# img = nib.load(path_cii)  # This line was run at the beginning \n",
    "ax1 = img.header.get_axis(0)\n",
    "ax2 = img.header.get_axis(1)\n",
    "header = (ax1, ax2)\n",
    "# Make and save image\n",
    "output_img = nib.cifti2.cifti2.Cifti2Image(np.single(data_postreg), header)\n",
    "output_img.to_filename(os.path.join(result_dir,FNL_preproc_CIFTI_basename + '_bandpassfirst.dtseries.nii'))"
   ]
  },
  {
   "cell_type": "code",
   "execution_count": null,
   "metadata": {},
   "outputs": [],
   "source": [
    "plt.figure(figsize=(4,2))\n",
    "plt.subplot(1,2,1)\n",
    "plt.plot(DVAR_post_reg,linewidth=0.5,label='DVARS post bandpass filter')\n",
    "plt.xlabel('TR')\n",
    "plt.title('DVARS')\n",
    "plt.ylim([0,40])\n",
    "plt.subplot(1,2,2)\n",
    "n = data.shape[0]\n",
    "frequencies = fs*np.arange(0,n//2+1)/n\n",
    "plt.plot(frequencies[1:],calc_power_spectrum(data_postreg[:,0]),linewidth=0.5,label='Power spectrum for example signal')\n",
    "plt.xlabel('Hz')\n",
    "plt.title('Frequency spectrum')\n",
    "plt.ylim([-0.5,15.5])\n",
    "plt.show()"
   ]
  },
  {
   "cell_type": "code",
   "execution_count": null,
   "metadata": {},
   "outputs": [],
   "source": [
    "plt.figure(figsize=(4,4))\n",
    "plt.plot(DVAR_pre_reg,linewidth=0.5,label='DVARS pre regression',color='b')\n",
    "plt.plot(DVAR_post_filter,linewidth=0.5,label='DVARS post filtered',color='g')\n",
    "plt.plot(DVAR_post_reg,linewidth=0.5,label='DVARS post regression',color='r')\n",
    "plt.xlabel('TR')\n",
    "plt.legend()\n",
    "plt.show()"
   ]
  },
  {
   "cell_type": "code",
   "execution_count": null,
   "metadata": {},
   "outputs": [],
   "source": [
    "plt.figure()\n",
    "im = plt.imshow(data_filtered.transpose(), aspect=\"auto\", cmap=\"gray\")\n",
    "plt.yticks([])\n",
    "plt.show()\n",
    "plt.figure()\n",
    "im = plt.imshow(data_postreg.transpose(), aspect=\"auto\", cmap=\"gray\")\n",
    "plt.yticks([])\n",
    "plt.show()"
   ]
  },
  {
   "cell_type": "code",
   "execution_count": null,
   "metadata": {},
   "outputs": [],
   "source": [
    "plt.figure()\n",
    "plt.plot(data_dd[:,0])\n",
    "plt.plot(data_filtered[:,0])\n",
    "plt.plot(data_postreg[:,0])"
   ]
  }
 ],
 "metadata": {
  "kernelspec": {
   "display_name": "neuromap_env",
   "language": "python",
   "name": "python3"
  },
  "language_info": {
   "codemirror_mode": {
    "name": "ipython",
    "version": 3
   },
   "file_extension": ".py",
   "mimetype": "text/x-python",
   "name": "python",
   "nbconvert_exporter": "python",
   "pygments_lexer": "ipython3",
   "version": "3.8.10"
  }
 },
 "nbformat": 4,
 "nbformat_minor": 2
}
